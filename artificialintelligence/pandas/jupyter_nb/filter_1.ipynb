{
 "cells": [
  {
   "cell_type": "code",
   "execution_count": 1,
   "metadata": {
    "pycharm": {
     "name": "#%%\n"
    }
   },
   "outputs": [],
   "source": [
    "import pandas as pd\n",
    "col_names=['sl_no','age','gender','role','id']\n",
    "data=pd.read_table(\"../files/ex.txt\",sep=\"|\",names=col_names)#not sure ahy header=0 is used"
   ]
  },
  {
   "cell_type": "code",
   "execution_count": 2,
   "metadata": {
    "pycharm": {
     "name": "#%%\n"
    }
   },
   "outputs": [
    {
     "data": {
      "text/plain": "   sl_no   age gender        role     id\n0      1  24.0      M  technician  85711\n1      2   NaN      F       other  94043\n2      3   NaN      M      writer  32067\n3      4  24.0      M  technician  43537\n4      5  33.0      F       other  15213",
      "text/html": "<div>\n<style scoped>\n    .dataframe tbody tr th:only-of-type {\n        vertical-align: middle;\n    }\n\n    .dataframe tbody tr th {\n        vertical-align: top;\n    }\n\n    .dataframe thead th {\n        text-align: right;\n    }\n</style>\n<table border=\"1\" class=\"dataframe\">\n  <thead>\n    <tr style=\"text-align: right;\">\n      <th></th>\n      <th>sl_no</th>\n      <th>age</th>\n      <th>gender</th>\n      <th>role</th>\n      <th>id</th>\n    </tr>\n  </thead>\n  <tbody>\n    <tr>\n      <th>0</th>\n      <td>1</td>\n      <td>24.0</td>\n      <td>M</td>\n      <td>technician</td>\n      <td>85711</td>\n    </tr>\n    <tr>\n      <th>1</th>\n      <td>2</td>\n      <td>NaN</td>\n      <td>F</td>\n      <td>other</td>\n      <td>94043</td>\n    </tr>\n    <tr>\n      <th>2</th>\n      <td>3</td>\n      <td>NaN</td>\n      <td>M</td>\n      <td>writer</td>\n      <td>32067</td>\n    </tr>\n    <tr>\n      <th>3</th>\n      <td>4</td>\n      <td>24.0</td>\n      <td>M</td>\n      <td>technician</td>\n      <td>43537</td>\n    </tr>\n    <tr>\n      <th>4</th>\n      <td>5</td>\n      <td>33.0</td>\n      <td>F</td>\n      <td>other</td>\n      <td>15213</td>\n    </tr>\n  </tbody>\n</table>\n</div>"
     },
     "execution_count": 2,
     "metadata": {},
     "output_type": "execute_result"
    }
   ],
   "source": [
    "data.head()"
   ]
  },
  {
   "cell_type": "code",
   "execution_count": 3,
   "metadata": {
    "pycharm": {
     "name": "#%%\n"
    }
   },
   "outputs": [
    {
     "name": "stderr",
     "output_type": "stream",
     "text": [
      "/var/folders/xk/3t6gk8755gj4g54jgfmw4v200000gn/T/ipykernel_12224/760450355.py:1: FutureWarning: Dropping of nuisance columns in DataFrame reductions (with 'numeric_only=None') is deprecated; in a future version this will raise TypeError.  Select only valid columns before calling the reduction.\n",
      "  data[data.age>25].mean()\n"
     ]
    },
    {
     "data": {
      "text/plain": "sl_no    472.408955\nage       39.323881\ndtype: float64"
     },
     "execution_count": 3,
     "metadata": {},
     "output_type": "execute_result"
    }
   ],
   "source": [
    "data[data.age>25].mean()"
   ]
  },
  {
   "cell_type": "code",
   "execution_count": 4,
   "metadata": {
    "pycharm": {
     "name": "#%%\n"
    }
   },
   "outputs": [
    {
     "data": {
      "text/plain": "     sl_no   age gender           role     id\n4        5  33.0      F          other  15213\n10      11  39.0      F          other  30329\n11      12  28.0      F          other  06405\n14      15  49.0      F       educator  97301\n17      18  35.0      F          other  37212\n..     ...   ...    ...            ...    ...\n921    922  29.0      F  administrator  21114\n929    930  28.0      F      scientist  07310\n937    938  38.0      F     technician  55038\n938    939  26.0      F        student  33319\n941    942  48.0      F      librarian  78209\n\n[196 rows x 5 columns]",
      "text/html": "<div>\n<style scoped>\n    .dataframe tbody tr th:only-of-type {\n        vertical-align: middle;\n    }\n\n    .dataframe tbody tr th {\n        vertical-align: top;\n    }\n\n    .dataframe thead th {\n        text-align: right;\n    }\n</style>\n<table border=\"1\" class=\"dataframe\">\n  <thead>\n    <tr style=\"text-align: right;\">\n      <th></th>\n      <th>sl_no</th>\n      <th>age</th>\n      <th>gender</th>\n      <th>role</th>\n      <th>id</th>\n    </tr>\n  </thead>\n  <tbody>\n    <tr>\n      <th>4</th>\n      <td>5</td>\n      <td>33.0</td>\n      <td>F</td>\n      <td>other</td>\n      <td>15213</td>\n    </tr>\n    <tr>\n      <th>10</th>\n      <td>11</td>\n      <td>39.0</td>\n      <td>F</td>\n      <td>other</td>\n      <td>30329</td>\n    </tr>\n    <tr>\n      <th>11</th>\n      <td>12</td>\n      <td>28.0</td>\n      <td>F</td>\n      <td>other</td>\n      <td>06405</td>\n    </tr>\n    <tr>\n      <th>14</th>\n      <td>15</td>\n      <td>49.0</td>\n      <td>F</td>\n      <td>educator</td>\n      <td>97301</td>\n    </tr>\n    <tr>\n      <th>17</th>\n      <td>18</td>\n      <td>35.0</td>\n      <td>F</td>\n      <td>other</td>\n      <td>37212</td>\n    </tr>\n    <tr>\n      <th>...</th>\n      <td>...</td>\n      <td>...</td>\n      <td>...</td>\n      <td>...</td>\n      <td>...</td>\n    </tr>\n    <tr>\n      <th>921</th>\n      <td>922</td>\n      <td>29.0</td>\n      <td>F</td>\n      <td>administrator</td>\n      <td>21114</td>\n    </tr>\n    <tr>\n      <th>929</th>\n      <td>930</td>\n      <td>28.0</td>\n      <td>F</td>\n      <td>scientist</td>\n      <td>07310</td>\n    </tr>\n    <tr>\n      <th>937</th>\n      <td>938</td>\n      <td>38.0</td>\n      <td>F</td>\n      <td>technician</td>\n      <td>55038</td>\n    </tr>\n    <tr>\n      <th>938</th>\n      <td>939</td>\n      <td>26.0</td>\n      <td>F</td>\n      <td>student</td>\n      <td>33319</td>\n    </tr>\n    <tr>\n      <th>941</th>\n      <td>942</td>\n      <td>48.0</td>\n      <td>F</td>\n      <td>librarian</td>\n      <td>78209</td>\n    </tr>\n  </tbody>\n</table>\n<p>196 rows × 5 columns</p>\n</div>"
     },
     "execution_count": 4,
     "metadata": {},
     "output_type": "execute_result"
    }
   ],
   "source": [
    "data[(data.age>25) & (data.gender=='F')]#and,or will not work use &,|"
   ]
  },
  {
   "cell_type": "code",
   "execution_count": 5,
   "metadata": {
    "pycharm": {
     "name": "#%%\n"
    }
   },
   "outputs": [
    {
     "data": {
      "text/plain": "sl_no       int64\nage       float64\ngender     object\nrole       object\nid         object\ndtype: object"
     },
     "execution_count": 5,
     "metadata": {},
     "output_type": "execute_result"
    }
   ],
   "source": [
    "(data.dtypes)"
   ]
  },
  {
   "cell_type": "code",
   "execution_count": 6,
   "metadata": {
    "pycharm": {
     "name": "#%%\n"
    }
   },
   "outputs": [
    {
     "data": {
      "text/plain": "0      False\n1      False\n2      False\n3      False\n4       True\n       ...  \n938    False\n939    False\n940    False\n941    False\n942    False\nLength: 943, dtype: bool"
     },
     "execution_count": 6,
     "metadata": {},
     "output_type": "execute_result"
    }
   ],
   "source": [
    "(data.age>25) & (data.role=='other')"
   ]
  },
  {
   "cell_type": "code",
   "execution_count": 7,
   "metadata": {
    "pycharm": {
     "name": "#%%\n"
    }
   },
   "outputs": [
    {
     "data": {
      "text/plain": "sl_no       int64\nage       float64\ngender     object\nrole       object\nid         object\ndtype: object"
     },
     "execution_count": 7,
     "metadata": {},
     "output_type": "execute_result"
    }
   ],
   "source": [
    "data.dtypes"
   ]
  },
  {
   "cell_type": "code",
   "execution_count": 8,
   "metadata": {
    "pycharm": {
     "name": "#%%\n"
    }
   },
   "outputs": [
    {
     "data": {
      "text/plain": "     sl_no   age gender           role     id\n6        7  57.0      M  administrator  91344\n7        8  36.0      M  administrator  05201\n22      23  30.0      F         artist  48197\n23      24  21.0      F         artist  94533\n30      31  24.0      M         artist  10003\n..     ...   ...    ...            ...    ...\n890    891  51.0      F  administrator  03062\n901    902  45.0      F         artist  97203\n919    920  30.0      F         artist  90008\n921    922  29.0      F  administrator  21114\n939    940  32.0      M  administrator  02215\n\n[107 rows x 5 columns]",
      "text/html": "<div>\n<style scoped>\n    .dataframe tbody tr th:only-of-type {\n        vertical-align: middle;\n    }\n\n    .dataframe tbody tr th {\n        vertical-align: top;\n    }\n\n    .dataframe thead th {\n        text-align: right;\n    }\n</style>\n<table border=\"1\" class=\"dataframe\">\n  <thead>\n    <tr style=\"text-align: right;\">\n      <th></th>\n      <th>sl_no</th>\n      <th>age</th>\n      <th>gender</th>\n      <th>role</th>\n      <th>id</th>\n    </tr>\n  </thead>\n  <tbody>\n    <tr>\n      <th>6</th>\n      <td>7</td>\n      <td>57.0</td>\n      <td>M</td>\n      <td>administrator</td>\n      <td>91344</td>\n    </tr>\n    <tr>\n      <th>7</th>\n      <td>8</td>\n      <td>36.0</td>\n      <td>M</td>\n      <td>administrator</td>\n      <td>05201</td>\n    </tr>\n    <tr>\n      <th>22</th>\n      <td>23</td>\n      <td>30.0</td>\n      <td>F</td>\n      <td>artist</td>\n      <td>48197</td>\n    </tr>\n    <tr>\n      <th>23</th>\n      <td>24</td>\n      <td>21.0</td>\n      <td>F</td>\n      <td>artist</td>\n      <td>94533</td>\n    </tr>\n    <tr>\n      <th>30</th>\n      <td>31</td>\n      <td>24.0</td>\n      <td>M</td>\n      <td>artist</td>\n      <td>10003</td>\n    </tr>\n    <tr>\n      <th>...</th>\n      <td>...</td>\n      <td>...</td>\n      <td>...</td>\n      <td>...</td>\n      <td>...</td>\n    </tr>\n    <tr>\n      <th>890</th>\n      <td>891</td>\n      <td>51.0</td>\n      <td>F</td>\n      <td>administrator</td>\n      <td>03062</td>\n    </tr>\n    <tr>\n      <th>901</th>\n      <td>902</td>\n      <td>45.0</td>\n      <td>F</td>\n      <td>artist</td>\n      <td>97203</td>\n    </tr>\n    <tr>\n      <th>919</th>\n      <td>920</td>\n      <td>30.0</td>\n      <td>F</td>\n      <td>artist</td>\n      <td>90008</td>\n    </tr>\n    <tr>\n      <th>921</th>\n      <td>922</td>\n      <td>29.0</td>\n      <td>F</td>\n      <td>administrator</td>\n      <td>21114</td>\n    </tr>\n    <tr>\n      <th>939</th>\n      <td>940</td>\n      <td>32.0</td>\n      <td>M</td>\n      <td>administrator</td>\n      <td>02215</td>\n    </tr>\n  </tbody>\n</table>\n<p>107 rows × 5 columns</p>\n</div>"
     },
     "execution_count": 8,
     "metadata": {},
     "output_type": "execute_result"
    }
   ],
   "source": [
    "data[data.role.isin(['oters','artist','administrator'])] "
   ]
  },
  {
   "cell_type": "code",
   "execution_count": 8,
   "metadata": {
    "pycharm": {
     "name": "#%%\n"
    }
   },
   "outputs": [],
   "source": []
  },
  {
   "cell_type": "code",
   "execution_count": 9,
   "metadata": {
    "pycharm": {
     "name": "#%%\n"
    }
   },
   "outputs": [
    {
     "data": {
      "text/plain": "     sl_no   age gender           role     id\n6        7  57.0      M  administrator  91344\n7        8  36.0      M  administrator  05201\n30      31  24.0      M         artist  10003\n41      42  30.0      M  administrator  17870\n47      48  45.0      M  administrator  12550\n77      78  26.0      M  administrator  61801\n85      86  26.0      M  administrator  46005\n86      87  47.0      M  administrator  89503\n94      95  31.0      M  administrator  10707\n96      97  43.0      M         artist  98006\n117    118  21.0      M  administrator  90210\n145    146  45.0      M         artist  83814\n161    162  25.0      M         artist  15610\n162    163  49.0      M  administrator  97212\n188    189  32.0      M         artist  95014\n189    190  30.0      M  administrator  95938\n190    191  33.0      M  administrator  95161\n193    194  38.0      M  administrator  02154\n217    218  37.0      M  administrator  06513\n236    237  49.0      M  administrator  63146\n238    239  39.0      M         artist  95628\n260    261  28.0      M  administrator  85202\n281    282  22.0      M  administrator  20057\n316    317  22.0      M  administrator  13210\n325    326  41.0      M  administrator  15235\n327    328  51.0      M  administrator  06779\n380    381  33.0      M         artist  94608\n382    383  42.0      M  administrator  75204\n393    394  25.0      M  administrator  96819\n408    409  48.0      M  administrator  98225\n432    433  27.0      M         artist  11211\n446    447  30.0      M  administrator  55113\n451    452  35.0      M  administrator  28018\n454    455  48.0      M  administrator  83709\n499    500  28.0      M  administrator  94305\n508    509  23.0      M  administrator  10011\n512    513  43.0      M  administrator  26241\n570    571  34.0      M         artist  01945\n577    578  31.0      M  administrator  M7A1A\n595    596  20.0      M         artist  77073\n664    665  25.0      M  administrator  55412\n665    666  44.0      M  administrator  61820\n747    748  28.0      M  administrator  94720\n749    750  28.0      M  administrator  32303\n761    762  32.0      M  administrator  95050\n767    768  29.0      M  administrator  12866\n783    784  47.0      M  administrator  91040\n787    788  51.0      M  administrator  05779\n801    802  35.0      M  administrator  34105\n802    803  70.0      M  administrator  78212\n818    819  59.0      M  administrator  40205\n822    823  27.0      M         artist  50322\n825    826  28.0      M         artist  77048\n835    836  44.0      M         artist  10018\n839    840  39.0      M         artist  55406\n851    852  46.0      M  administrator  94086\n864    865  25.0      M         artist  11231\n939    940  32.0      M  administrator  02215",
      "text/html": "<div>\n<style scoped>\n    .dataframe tbody tr th:only-of-type {\n        vertical-align: middle;\n    }\n\n    .dataframe tbody tr th {\n        vertical-align: top;\n    }\n\n    .dataframe thead th {\n        text-align: right;\n    }\n</style>\n<table border=\"1\" class=\"dataframe\">\n  <thead>\n    <tr style=\"text-align: right;\">\n      <th></th>\n      <th>sl_no</th>\n      <th>age</th>\n      <th>gender</th>\n      <th>role</th>\n      <th>id</th>\n    </tr>\n  </thead>\n  <tbody>\n    <tr>\n      <th>6</th>\n      <td>7</td>\n      <td>57.0</td>\n      <td>M</td>\n      <td>administrator</td>\n      <td>91344</td>\n    </tr>\n    <tr>\n      <th>7</th>\n      <td>8</td>\n      <td>36.0</td>\n      <td>M</td>\n      <td>administrator</td>\n      <td>05201</td>\n    </tr>\n    <tr>\n      <th>30</th>\n      <td>31</td>\n      <td>24.0</td>\n      <td>M</td>\n      <td>artist</td>\n      <td>10003</td>\n    </tr>\n    <tr>\n      <th>41</th>\n      <td>42</td>\n      <td>30.0</td>\n      <td>M</td>\n      <td>administrator</td>\n      <td>17870</td>\n    </tr>\n    <tr>\n      <th>47</th>\n      <td>48</td>\n      <td>45.0</td>\n      <td>M</td>\n      <td>administrator</td>\n      <td>12550</td>\n    </tr>\n    <tr>\n      <th>77</th>\n      <td>78</td>\n      <td>26.0</td>\n      <td>M</td>\n      <td>administrator</td>\n      <td>61801</td>\n    </tr>\n    <tr>\n      <th>85</th>\n      <td>86</td>\n      <td>26.0</td>\n      <td>M</td>\n      <td>administrator</td>\n      <td>46005</td>\n    </tr>\n    <tr>\n      <th>86</th>\n      <td>87</td>\n      <td>47.0</td>\n      <td>M</td>\n      <td>administrator</td>\n      <td>89503</td>\n    </tr>\n    <tr>\n      <th>94</th>\n      <td>95</td>\n      <td>31.0</td>\n      <td>M</td>\n      <td>administrator</td>\n      <td>10707</td>\n    </tr>\n    <tr>\n      <th>96</th>\n      <td>97</td>\n      <td>43.0</td>\n      <td>M</td>\n      <td>artist</td>\n      <td>98006</td>\n    </tr>\n    <tr>\n      <th>117</th>\n      <td>118</td>\n      <td>21.0</td>\n      <td>M</td>\n      <td>administrator</td>\n      <td>90210</td>\n    </tr>\n    <tr>\n      <th>145</th>\n      <td>146</td>\n      <td>45.0</td>\n      <td>M</td>\n      <td>artist</td>\n      <td>83814</td>\n    </tr>\n    <tr>\n      <th>161</th>\n      <td>162</td>\n      <td>25.0</td>\n      <td>M</td>\n      <td>artist</td>\n      <td>15610</td>\n    </tr>\n    <tr>\n      <th>162</th>\n      <td>163</td>\n      <td>49.0</td>\n      <td>M</td>\n      <td>administrator</td>\n      <td>97212</td>\n    </tr>\n    <tr>\n      <th>188</th>\n      <td>189</td>\n      <td>32.0</td>\n      <td>M</td>\n      <td>artist</td>\n      <td>95014</td>\n    </tr>\n    <tr>\n      <th>189</th>\n      <td>190</td>\n      <td>30.0</td>\n      <td>M</td>\n      <td>administrator</td>\n      <td>95938</td>\n    </tr>\n    <tr>\n      <th>190</th>\n      <td>191</td>\n      <td>33.0</td>\n      <td>M</td>\n      <td>administrator</td>\n      <td>95161</td>\n    </tr>\n    <tr>\n      <th>193</th>\n      <td>194</td>\n      <td>38.0</td>\n      <td>M</td>\n      <td>administrator</td>\n      <td>02154</td>\n    </tr>\n    <tr>\n      <th>217</th>\n      <td>218</td>\n      <td>37.0</td>\n      <td>M</td>\n      <td>administrator</td>\n      <td>06513</td>\n    </tr>\n    <tr>\n      <th>236</th>\n      <td>237</td>\n      <td>49.0</td>\n      <td>M</td>\n      <td>administrator</td>\n      <td>63146</td>\n    </tr>\n    <tr>\n      <th>238</th>\n      <td>239</td>\n      <td>39.0</td>\n      <td>M</td>\n      <td>artist</td>\n      <td>95628</td>\n    </tr>\n    <tr>\n      <th>260</th>\n      <td>261</td>\n      <td>28.0</td>\n      <td>M</td>\n      <td>administrator</td>\n      <td>85202</td>\n    </tr>\n    <tr>\n      <th>281</th>\n      <td>282</td>\n      <td>22.0</td>\n      <td>M</td>\n      <td>administrator</td>\n      <td>20057</td>\n    </tr>\n    <tr>\n      <th>316</th>\n      <td>317</td>\n      <td>22.0</td>\n      <td>M</td>\n      <td>administrator</td>\n      <td>13210</td>\n    </tr>\n    <tr>\n      <th>325</th>\n      <td>326</td>\n      <td>41.0</td>\n      <td>M</td>\n      <td>administrator</td>\n      <td>15235</td>\n    </tr>\n    <tr>\n      <th>327</th>\n      <td>328</td>\n      <td>51.0</td>\n      <td>M</td>\n      <td>administrator</td>\n      <td>06779</td>\n    </tr>\n    <tr>\n      <th>380</th>\n      <td>381</td>\n      <td>33.0</td>\n      <td>M</td>\n      <td>artist</td>\n      <td>94608</td>\n    </tr>\n    <tr>\n      <th>382</th>\n      <td>383</td>\n      <td>42.0</td>\n      <td>M</td>\n      <td>administrator</td>\n      <td>75204</td>\n    </tr>\n    <tr>\n      <th>393</th>\n      <td>394</td>\n      <td>25.0</td>\n      <td>M</td>\n      <td>administrator</td>\n      <td>96819</td>\n    </tr>\n    <tr>\n      <th>408</th>\n      <td>409</td>\n      <td>48.0</td>\n      <td>M</td>\n      <td>administrator</td>\n      <td>98225</td>\n    </tr>\n    <tr>\n      <th>432</th>\n      <td>433</td>\n      <td>27.0</td>\n      <td>M</td>\n      <td>artist</td>\n      <td>11211</td>\n    </tr>\n    <tr>\n      <th>446</th>\n      <td>447</td>\n      <td>30.0</td>\n      <td>M</td>\n      <td>administrator</td>\n      <td>55113</td>\n    </tr>\n    <tr>\n      <th>451</th>\n      <td>452</td>\n      <td>35.0</td>\n      <td>M</td>\n      <td>administrator</td>\n      <td>28018</td>\n    </tr>\n    <tr>\n      <th>454</th>\n      <td>455</td>\n      <td>48.0</td>\n      <td>M</td>\n      <td>administrator</td>\n      <td>83709</td>\n    </tr>\n    <tr>\n      <th>499</th>\n      <td>500</td>\n      <td>28.0</td>\n      <td>M</td>\n      <td>administrator</td>\n      <td>94305</td>\n    </tr>\n    <tr>\n      <th>508</th>\n      <td>509</td>\n      <td>23.0</td>\n      <td>M</td>\n      <td>administrator</td>\n      <td>10011</td>\n    </tr>\n    <tr>\n      <th>512</th>\n      <td>513</td>\n      <td>43.0</td>\n      <td>M</td>\n      <td>administrator</td>\n      <td>26241</td>\n    </tr>\n    <tr>\n      <th>570</th>\n      <td>571</td>\n      <td>34.0</td>\n      <td>M</td>\n      <td>artist</td>\n      <td>01945</td>\n    </tr>\n    <tr>\n      <th>577</th>\n      <td>578</td>\n      <td>31.0</td>\n      <td>M</td>\n      <td>administrator</td>\n      <td>M7A1A</td>\n    </tr>\n    <tr>\n      <th>595</th>\n      <td>596</td>\n      <td>20.0</td>\n      <td>M</td>\n      <td>artist</td>\n      <td>77073</td>\n    </tr>\n    <tr>\n      <th>664</th>\n      <td>665</td>\n      <td>25.0</td>\n      <td>M</td>\n      <td>administrator</td>\n      <td>55412</td>\n    </tr>\n    <tr>\n      <th>665</th>\n      <td>666</td>\n      <td>44.0</td>\n      <td>M</td>\n      <td>administrator</td>\n      <td>61820</td>\n    </tr>\n    <tr>\n      <th>747</th>\n      <td>748</td>\n      <td>28.0</td>\n      <td>M</td>\n      <td>administrator</td>\n      <td>94720</td>\n    </tr>\n    <tr>\n      <th>749</th>\n      <td>750</td>\n      <td>28.0</td>\n      <td>M</td>\n      <td>administrator</td>\n      <td>32303</td>\n    </tr>\n    <tr>\n      <th>761</th>\n      <td>762</td>\n      <td>32.0</td>\n      <td>M</td>\n      <td>administrator</td>\n      <td>95050</td>\n    </tr>\n    <tr>\n      <th>767</th>\n      <td>768</td>\n      <td>29.0</td>\n      <td>M</td>\n      <td>administrator</td>\n      <td>12866</td>\n    </tr>\n    <tr>\n      <th>783</th>\n      <td>784</td>\n      <td>47.0</td>\n      <td>M</td>\n      <td>administrator</td>\n      <td>91040</td>\n    </tr>\n    <tr>\n      <th>787</th>\n      <td>788</td>\n      <td>51.0</td>\n      <td>M</td>\n      <td>administrator</td>\n      <td>05779</td>\n    </tr>\n    <tr>\n      <th>801</th>\n      <td>802</td>\n      <td>35.0</td>\n      <td>M</td>\n      <td>administrator</td>\n      <td>34105</td>\n    </tr>\n    <tr>\n      <th>802</th>\n      <td>803</td>\n      <td>70.0</td>\n      <td>M</td>\n      <td>administrator</td>\n      <td>78212</td>\n    </tr>\n    <tr>\n      <th>818</th>\n      <td>819</td>\n      <td>59.0</td>\n      <td>M</td>\n      <td>administrator</td>\n      <td>40205</td>\n    </tr>\n    <tr>\n      <th>822</th>\n      <td>823</td>\n      <td>27.0</td>\n      <td>M</td>\n      <td>artist</td>\n      <td>50322</td>\n    </tr>\n    <tr>\n      <th>825</th>\n      <td>826</td>\n      <td>28.0</td>\n      <td>M</td>\n      <td>artist</td>\n      <td>77048</td>\n    </tr>\n    <tr>\n      <th>835</th>\n      <td>836</td>\n      <td>44.0</td>\n      <td>M</td>\n      <td>artist</td>\n      <td>10018</td>\n    </tr>\n    <tr>\n      <th>839</th>\n      <td>840</td>\n      <td>39.0</td>\n      <td>M</td>\n      <td>artist</td>\n      <td>55406</td>\n    </tr>\n    <tr>\n      <th>851</th>\n      <td>852</td>\n      <td>46.0</td>\n      <td>M</td>\n      <td>administrator</td>\n      <td>94086</td>\n    </tr>\n    <tr>\n      <th>864</th>\n      <td>865</td>\n      <td>25.0</td>\n      <td>M</td>\n      <td>artist</td>\n      <td>11231</td>\n    </tr>\n    <tr>\n      <th>939</th>\n      <td>940</td>\n      <td>32.0</td>\n      <td>M</td>\n      <td>administrator</td>\n      <td>02215</td>\n    </tr>\n  </tbody>\n</table>\n</div>"
     },
     "execution_count": 9,
     "metadata": {},
     "output_type": "execute_result"
    }
   ],
   "source": [
    "data[(data.role.isin(['oters','artist','administrator'])) & (data.gender=='M')] "
   ]
  },
  {
   "cell_type": "code",
   "execution_count": 9,
   "metadata": {
    "pycharm": {
     "name": "#%%\n"
    }
   },
   "outputs": [],
   "source": []
  }
 ],
 "metadata": {
  "kernelspec": {
   "display_name": "Python 3",
   "language": "python",
   "name": "python3"
  },
  "language_info": {
   "codemirror_mode": {
    "name": "ipython",
    "version": 3
   },
   "file_extension": ".py",
   "mimetype": "text/x-python",
   "name": "python",
   "nbconvert_exporter": "python",
   "pygments_lexer": "ipython3",
   "version": "3.8.5"
  }
 },
 "nbformat": 4,
 "nbformat_minor": 1
}